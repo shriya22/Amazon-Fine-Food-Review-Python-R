{
 "cells": [
  {
   "cell_type": "markdown",
   "metadata": {},
   "source": [
    "## AMAZON FINE FOOD REVIEWS:"
   ]
  },
  {
   "cell_type": "markdown",
   "metadata": {},
   "source": [
    "#### Printing the output"
   ]
  },
  {
   "cell_type": "code",
   "execution_count": 31,
   "metadata": {},
   "outputs": [],
   "source": [
    "# print all the outputs in a cell\n",
    "from IPython.core.interactiveshell import InteractiveShell\n",
    "InteractiveShell.ast_node_interactivity = \"all\"\n",
    "\n",
    "import pandas as pd\n",
    "pd.set_option('precision', 2) # show only two decimal digits"
   ]
  },
  {
   "cell_type": "markdown",
   "metadata": {},
   "source": [
    "#### Importing required packages:"
   ]
  },
  {
   "cell_type": "code",
   "execution_count": 32,
   "metadata": {},
   "outputs": [
    {
     "name": "stderr",
     "output_type": "stream",
     "text": [
      "[nltk_data] Downloading package stopwords to\n",
      "[nltk_data]     /Users/dakshatajain/nltk_data...\n",
      "[nltk_data]   Package stopwords is already up-to-date!\n"
     ]
    },
    {
     "data": {
      "text/plain": [
       "True"
      ]
     },
     "execution_count": 32,
     "metadata": {},
     "output_type": "execute_result"
    },
    {
     "name": "stderr",
     "output_type": "stream",
     "text": [
      "[nltk_data] Downloading package wordnet to\n",
      "[nltk_data]     /Users/dakshatajain/nltk_data...\n",
      "[nltk_data]   Package wordnet is already up-to-date!\n"
     ]
    },
    {
     "data": {
      "text/plain": [
       "True"
      ]
     },
     "execution_count": 32,
     "metadata": {},
     "output_type": "execute_result"
    },
    {
     "name": "stdout",
     "output_type": "stream",
     "text": [
      "Populating the interactive namespace from numpy and matplotlib\n"
     ]
    }
   ],
   "source": [
    "import warnings\n",
    "warnings.filterwarnings(\"ignore\")                                   #Ignoring unnecessory warnings\n",
    "\n",
    "import numpy as np                                                  #for large and multi-dimensional arrays                               #for data manipulation and analysis\n",
    "import nltk \n",
    "nltk.download('stopwords')                                          #Natural language processing tool-kit\n",
    "nltk.download('wordnet')\n",
    "\n",
    "from nltk.corpus import stopwords                                   #Stopwords \n",
    "from nltk.stem import PorterStemmer                                 # Stemmer\n",
    "from nltk.stem import WordNetLemmatizer                             # Lemmatizer\n",
    "\n",
    "from sklearn.feature_extraction.text import CountVectorizer          #For Bag of words\n",
    "from sklearn.feature_extraction.text import TfidfVectorizer          #For TF-IDF  \n",
    "\n",
    "import seaborn as sns                                                #For Plots                          \n",
    "%pylab inline\n",
    "\n",
    "import sklearn as sk\n",
    "import sklearn.tree as tree\n",
    "from IPython.display import Image  \n",
    "import pydotplus\n",
    "import mglearn\n",
    "\n",
    "from sklearn.model_selection import GridSearchCV\n",
    "from sklearn.linear_model import LogisticRegression"
   ]
  },
  {
   "cell_type": "markdown",
   "metadata": {},
   "source": [
    "#### Reading the file:"
   ]
  },
  {
   "cell_type": "code",
   "execution_count": 33,
   "metadata": {},
   "outputs": [],
   "source": [
    "df = pd.read_csv('Reviews.csv')"
   ]
  },
  {
   "cell_type": "code",
   "execution_count": 34,
   "metadata": {},
   "outputs": [
    {
     "data": {
      "text/html": [
       "<div>\n",
       "<style scoped>\n",
       "    .dataframe tbody tr th:only-of-type {\n",
       "        vertical-align: middle;\n",
       "    }\n",
       "\n",
       "    .dataframe tbody tr th {\n",
       "        vertical-align: top;\n",
       "    }\n",
       "\n",
       "    .dataframe thead th {\n",
       "        text-align: right;\n",
       "    }\n",
       "</style>\n",
       "<table border=\"1\" class=\"dataframe\">\n",
       "  <thead>\n",
       "    <tr style=\"text-align: right;\">\n",
       "      <th></th>\n",
       "      <th>Id</th>\n",
       "      <th>ProductId</th>\n",
       "      <th>UserId</th>\n",
       "      <th>ProfileName</th>\n",
       "      <th>HelpfulnessNumerator</th>\n",
       "      <th>HelpfulnessDenominator</th>\n",
       "      <th>Score</th>\n",
       "      <th>Time</th>\n",
       "      <th>Summary</th>\n",
       "      <th>Text</th>\n",
       "    </tr>\n",
       "  </thead>\n",
       "  <tbody>\n",
       "    <tr>\n",
       "      <th>0</th>\n",
       "      <td>1</td>\n",
       "      <td>B001E4KFG0</td>\n",
       "      <td>A3SGXH7AUHU8GW</td>\n",
       "      <td>delmartian</td>\n",
       "      <td>1</td>\n",
       "      <td>1</td>\n",
       "      <td>5</td>\n",
       "      <td>1303862400</td>\n",
       "      <td>Good Quality Dog Food</td>\n",
       "      <td>I have bought several of the Vitality canned d...</td>\n",
       "    </tr>\n",
       "    <tr>\n",
       "      <th>1</th>\n",
       "      <td>2</td>\n",
       "      <td>B00813GRG4</td>\n",
       "      <td>A1D87F6ZCVE5NK</td>\n",
       "      <td>dll pa</td>\n",
       "      <td>0</td>\n",
       "      <td>0</td>\n",
       "      <td>1</td>\n",
       "      <td>1346976000</td>\n",
       "      <td>Not as Advertised</td>\n",
       "      <td>Product arrived labeled as Jumbo Salted Peanut...</td>\n",
       "    </tr>\n",
       "    <tr>\n",
       "      <th>2</th>\n",
       "      <td>3</td>\n",
       "      <td>B000LQOCH0</td>\n",
       "      <td>ABXLMWJIXXAIN</td>\n",
       "      <td>Natalia Corres \"Natalia Corres\"</td>\n",
       "      <td>1</td>\n",
       "      <td>1</td>\n",
       "      <td>4</td>\n",
       "      <td>1219017600</td>\n",
       "      <td>\"Delight\" says it all</td>\n",
       "      <td>This is a confection that has been around a fe...</td>\n",
       "    </tr>\n",
       "    <tr>\n",
       "      <th>3</th>\n",
       "      <td>4</td>\n",
       "      <td>B000UA0QIQ</td>\n",
       "      <td>A395BORC6FGVXV</td>\n",
       "      <td>Karl</td>\n",
       "      <td>3</td>\n",
       "      <td>3</td>\n",
       "      <td>2</td>\n",
       "      <td>1307923200</td>\n",
       "      <td>Cough Medicine</td>\n",
       "      <td>If you are looking for the secret ingredient i...</td>\n",
       "    </tr>\n",
       "    <tr>\n",
       "      <th>4</th>\n",
       "      <td>5</td>\n",
       "      <td>B006K2ZZ7K</td>\n",
       "      <td>A1UQRSCLF8GW1T</td>\n",
       "      <td>Michael D. Bigham \"M. Wassir\"</td>\n",
       "      <td>0</td>\n",
       "      <td>0</td>\n",
       "      <td>5</td>\n",
       "      <td>1350777600</td>\n",
       "      <td>Great taffy</td>\n",
       "      <td>Great taffy at a great price.  There was a wid...</td>\n",
       "    </tr>\n",
       "  </tbody>\n",
       "</table>\n",
       "</div>"
      ],
      "text/plain": [
       "   Id   ProductId          UserId                      ProfileName  \\\n",
       "0   1  B001E4KFG0  A3SGXH7AUHU8GW                       delmartian   \n",
       "1   2  B00813GRG4  A1D87F6ZCVE5NK                           dll pa   \n",
       "2   3  B000LQOCH0   ABXLMWJIXXAIN  Natalia Corres \"Natalia Corres\"   \n",
       "3   4  B000UA0QIQ  A395BORC6FGVXV                             Karl   \n",
       "4   5  B006K2ZZ7K  A1UQRSCLF8GW1T    Michael D. Bigham \"M. Wassir\"   \n",
       "\n",
       "   HelpfulnessNumerator  HelpfulnessDenominator  Score        Time  \\\n",
       "0                     1                       1      5  1303862400   \n",
       "1                     0                       0      1  1346976000   \n",
       "2                     1                       1      4  1219017600   \n",
       "3                     3                       3      2  1307923200   \n",
       "4                     0                       0      5  1350777600   \n",
       "\n",
       "                 Summary                                               Text  \n",
       "0  Good Quality Dog Food  I have bought several of the Vitality canned d...  \n",
       "1      Not as Advertised  Product arrived labeled as Jumbo Salted Peanut...  \n",
       "2  \"Delight\" says it all  This is a confection that has been around a fe...  \n",
       "3         Cough Medicine  If you are looking for the secret ingredient i...  \n",
       "4            Great taffy  Great taffy at a great price.  There was a wid...  "
      ]
     },
     "execution_count": 34,
     "metadata": {},
     "output_type": "execute_result"
    }
   ],
   "source": [
    "df.head()"
   ]
  },
  {
   "cell_type": "markdown",
   "metadata": {},
   "source": [
    "#### Creating the subset: \n",
    "<li>Taking only those rows which have been voted (i.e helpful or not) more than 10 times."
   ]
  },
  {
   "cell_type": "code",
   "execution_count": 35,
   "metadata": {},
   "outputs": [],
   "source": [
    "df_subset1 = df[(df.HelpfulnessDenominator >= 5)]"
   ]
  },
  {
   "cell_type": "code",
   "execution_count": 36,
   "metadata": {},
   "outputs": [
    {
     "data": {
      "text/plain": [
       "67467"
      ]
     },
     "execution_count": 36,
     "metadata": {},
     "output_type": "execute_result"
    }
   ],
   "source": [
    "len(df_subset1)"
   ]
  },
  {
   "cell_type": "markdown",
   "metadata": {},
   "source": [
    "#### Creating Y variable: (Useful)"
   ]
  },
  {
   "cell_type": "code",
   "execution_count": 37,
   "metadata": {},
   "outputs": [],
   "source": [
    "#Creating Helpfulness percentage:\n",
    "df_subset1['Perc_helpfulness'] = (df.HelpfulnessNumerator / df.HelpfulnessDenominator)"
   ]
  },
  {
   "cell_type": "code",
   "execution_count": 38,
   "metadata": {},
   "outputs": [],
   "source": [
    "df_subset1['Comment_Len']= df_subset1['Text'].apply(lambda x: len(str(x).split(' ')))"
   ]
  },
  {
   "cell_type": "code",
   "execution_count": 39,
   "metadata": {},
   "outputs": [],
   "source": [
    "#Subsetting further by taking only highly helpful (Perc_helfulness==1) and not at all helpful (Perc_helfulness<0.3):\n",
    "df_subset2 = df_subset1[(df_subset1.Perc_helpfulness < 0.5) | (df_subset1.Perc_helpfulness >= 0.95)]\n",
    "\n",
    "#Creating a dummy variable based on above which defines helpfulness:\n",
    "df_subset2['Useful'] = (df_subset1.Perc_helpfulness == 1) * 1"
   ]
  },
  {
   "cell_type": "code",
   "execution_count": 40,
   "metadata": {},
   "outputs": [
    {
     "data": {
      "text/plain": [
       "Id                        24539\n",
       "ProductId                 24539\n",
       "UserId                    24539\n",
       "ProfileName               24539\n",
       "HelpfulnessNumerator      24539\n",
       "HelpfulnessDenominator    24539\n",
       "Score                     24539\n",
       "Time                      24539\n",
       "Summary                   24539\n",
       "Text                      24539\n",
       "Perc_helpfulness          24539\n",
       "Comment_Len               24539\n",
       "Useful                    24539\n",
       "dtype: int64"
      ]
     },
     "execution_count": 40,
     "metadata": {},
     "output_type": "execute_result"
    }
   ],
   "source": [
    "df_subset2[df_subset2.Useful == 1].count()"
   ]
  },
  {
   "cell_type": "code",
   "execution_count": 41,
   "metadata": {},
   "outputs": [
    {
     "data": {
      "text/plain": [
       "Id                        14074\n",
       "ProductId                 14074\n",
       "UserId                    14074\n",
       "ProfileName               14074\n",
       "HelpfulnessNumerator      14074\n",
       "HelpfulnessDenominator    14074\n",
       "Score                     14074\n",
       "Time                      14074\n",
       "Summary                   14049\n",
       "Text                      14074\n",
       "Perc_helpfulness          14074\n",
       "Comment_Len               14074\n",
       "Useful                    14074\n",
       "dtype: int64"
      ]
     },
     "execution_count": 41,
     "metadata": {},
     "output_type": "execute_result"
    }
   ],
   "source": [
    "df_subset2[df_subset2.Useful == 0].count()"
   ]
  },
  {
   "cell_type": "markdown",
   "metadata": {},
   "source": [
    "### CLEANING THE DATA AND CREATING FEATURES:"
   ]
  },
  {
   "cell_type": "markdown",
   "metadata": {},
   "source": [
    "#### Cleaning the data by removing duplicates:"
   ]
  },
  {
   "cell_type": "code",
   "execution_count": 42,
   "metadata": {
    "scrolled": true
   },
   "outputs": [
    {
     "data": {
      "text/plain": [
       "10526"
      ]
     },
     "execution_count": 42,
     "metadata": {},
     "output_type": "execute_result"
    }
   ],
   "source": [
    "# Identifying number of duplicates:\n",
    "len(df_subset2) - len(df_subset2.groupby(['UserId','Text','ProfileName','Time'])) ### 2288\n",
    "\n",
    "#Removing duplicates:\n",
    "df1 = df_subset2.drop_duplicates(subset={\"UserId\",\"ProfileName\",\"Time\",\"Text\"})"
   ]
  },
  {
   "cell_type": "code",
   "execution_count": 43,
   "metadata": {},
   "outputs": [],
   "source": [
    "df1= df1[~df1.Summary.isna()]"
   ]
  },
  {
   "cell_type": "code",
   "execution_count": 44,
   "metadata": {},
   "outputs": [],
   "source": [
    "df1['Smileys_count']= df1.Text.str.count(':\\)') + df1.Summary.str.count(':\\)')"
   ]
  },
  {
   "cell_type": "code",
   "execution_count": 45,
   "metadata": {},
   "outputs": [],
   "source": [
    "df1['Exclamation_count']= df1.Text.str.count('!') + df1.Summary.str.count('!')"
   ]
  },
  {
   "cell_type": "code",
   "execution_count": 46,
   "metadata": {},
   "outputs": [],
   "source": [
    "df1['Sad_Smileys_count']= df1.Text.str.count(':\\(') + df1.Summary.str.count(':\\(')"
   ]
  },
  {
   "cell_type": "markdown",
   "metadata": {},
   "source": [
    "#### Creating a list for stopwords:"
   ]
  },
  {
   "cell_type": "code",
   "execution_count": 47,
   "metadata": {},
   "outputs": [
    {
     "name": "stdout",
     "output_type": "stream",
     "text": [
      "{'from', 'have', 'with', \"shan't\", 'you', 'their', 'being', 'aren', \"you've\", 'a', 'herself', 'd', 'wouldn', 'or', \"didn't\", 'o', 'then', \"shouldn't\", \"you'd\", 'than', 'shouldn', 'me', 'himself', 'against', 'there', 'more', 'shan', 'who', 'to', \"should've\", \"you're\", 'and', 'should', 'weren', \"hasn't\", 'only', 'further', 'she', 'having', 'my', 'isn', 'not', 'has', 'had', \"aren't\", 'by', 'didn', 'yourself', 'mightn', 'but', 'yourselves', \"weren't\", 'them', 'an', 'mustn', 'ma', 'can', 'both', 'him', 'over', 't', 'at', 'do', 'once', 'hadn', 'between', \"that'll\", 've', 'before', 'off', 'all', 'doesn', \"haven't\", 'too', 'no', 'myself', 'its', \"won't\", 'y', 'he', 'after', 'because', 're', 'now', \"mightn't\", 'wasn', 'were', 'until', 'the', 'very', \"isn't\", 'needn', \"mustn't\", 'm', 'does', 'how', 'don', 'been', 'while', 'such', \"you'll\", 'if', 'whom', 'as', 'itself', 'under', \"she's\", \"doesn't\", 'in', 'be', 'haven', 'these', 'when', 'so', 'on', 'it', 'what', 'for', 'here', 'hers', 'hasn', 'we', \"it's\", 'her', 'where', 'themselves', 'will', 'won', 'those', 'that', 'was', 'of', 'yours', 'am', 'your', 'own', 'are', 'same', 'which', 'couldn', 'll', 'up', 'they', 'most', 'just', 'his', 'during', 'nor', 'this', \"hadn't\", 'ain', \"wouldn't\", \"wasn't\", 'out', 'other', 'our', 'about', 'down', 'few', 'each', 'some', 'is', 'ours', 'theirs', 'i', \"needn't\", 'through', 'any', 'again', 'into', 'ourselves', 's', 'doing', \"couldn't\", 'did', 'above', 'why', \"don't\", 'below'}\n"
     ]
    }
   ],
   "source": [
    "#Removing stopwords:\n",
    "stop = set(stopwords.words('english')) \n",
    "print(stop)"
   ]
  },
  {
   "cell_type": "code",
   "execution_count": 48,
   "metadata": {},
   "outputs": [],
   "source": [
    "#Updating the stopwords by not including words like NOt which are important:\n",
    "stop_upd = {'here','just', 'before', 'other','whom', 'once', 'further', 'now', 'where',\\\n",
    "            'of', 'below', 'it', 'was','themselves', 't', 'been', 'a', 'had', \\\n",
    "            'when', 'those', 'is', 'your', 'out', \"that'll\",'he', 'have', 'yourself', \\\n",
    "            'more', 'what', 'which', \"she's\",'why', 'ours', \"you'll\", 'they', 've', \\\n",
    "            'after', 'we', 'be', 'being', 'off', 'herself', 'mightn', 'she', 'were', \\\n",
    "            'because', 'for', 'over', 'him', 'the','by','can', 'my', 'haven', 'are', 'd', \\\n",
    "            'and','itself', 'or', 'again', 'them','each', 'theirs', 'these', 'if', 're', \\\n",
    "            'does', 'do', 'than', 'am', 'from', 'only', 'about','in',\"it's\",'ma','any',  \\\n",
    "            'ourselves', 'some','through', 'ain','such','shan', 'their', 'into','did', 'yours',\\\n",
    "            'up', 'with', 'himself', 'on', 'her', 'm', 'our', 'll', 'under',  \"you'd\", 'won', 'hers',\\\n",
    "            'then', 'how', 'so', 'i', \"you've\", 'down', 'that', 'both', 'you', 'there', 'as', 'during', \\\n",
    "            'all', 'own', 'myself', 'above', 'to', 'same', 's', 'but', 'this', 'yourselves', 'his', \\\n",
    "            'until', 'doing', 'who', 'o', 'between', 'at', 'having', 'has', 'y', 'its', 'an', \"you're\", 'me', 'while'}"
   ]
  },
  {
   "cell_type": "markdown",
   "metadata": {},
   "source": [
    "#### Cleaning Summary and Text column:"
   ]
  },
  {
   "cell_type": "markdown",
   "metadata": {},
   "source": [
    "#### Includes Lemmatization: converting the words to their root word which is an actual language word"
   ]
  },
  {
   "cell_type": "code",
   "execution_count": 49,
   "metadata": {},
   "outputs": [],
   "source": [
    "#Reassign:\n",
    "df2 = df1 \n",
    "\n",
    "from nltk.stem import PorterStemmer\n",
    "\n",
    "#Cleaning Using Lemmatization:\n",
    "temp = []\n",
    "#wordnet_lemmatizer = WordNetLemmatizer()\n",
    "snow = nltk.stem.SnowballStemmer('english')\n",
    "\n",
    "for sentence in df2.Summary:\n",
    "    sentence = sentence.lower()                          # Converting to lowercase\n",
    "    cleanr   = re.compile('<.*?>')                      \n",
    "    sentence = re.sub(cleanr, ' ', sentence)             #Removing HTML tags   \n",
    "    sentence = re.sub('[^a-z ]+',r'',sentence)          #Removing Punctuations, Numbers\n",
    "    \n",
    "    #words = [wordnet_lemmatizer.lemmatize(word,pos='v') for word in sentence.split() if word not in stop_upd]   # Lemmatizing and removing stopwords\n",
    "    words = [snow.stem(word) for word in sentence.split() if word not in stop_upd]   # Lemmatizing and removing stopwords\n",
    "    temp.append(words)\n",
    "        \n",
    "X_initial = temp            "
   ]
  },
  {
   "cell_type": "code",
   "execution_count": 50,
   "metadata": {},
   "outputs": [
    {
     "name": "stdout",
     "output_type": "stream",
     "text": [
      " best instant oatmeal\n"
     ]
    }
   ],
   "source": [
    "#Removing quotes from words:\n",
    "list_words = []\n",
    "for row in X_initial:\n",
    "    s1 = ''\n",
    "    for word in row:\n",
    "        s1 = s1 + ' ' + word\n",
    "    list_words.append(s1)\n",
    "\n",
    "X_initial = list_words\n",
    "print(X_initial[0])"
   ]
  },
  {
   "cell_type": "markdown",
   "metadata": {},
   "source": [
    "### ANALYSIS OF TEXT AND SUMMARY COLUMN (USING BIGRAM):"
   ]
  },
  {
   "cell_type": "markdown",
   "metadata": {},
   "source": [
    "#### COUNTVECTORIZER ON Summary and TEXT"
   ]
  },
  {
   "cell_type": "code",
   "execution_count": 155,
   "metadata": {},
   "outputs": [
    {
     "name": "stdout",
     "output_type": "stream",
     "text": [
      "  (0, 1198)\t1\n",
      "  (0, 1175)\t1\n",
      "  (0, 1529)\t1\n"
     ]
    }
   ],
   "source": [
    "#Bigram:\n",
    "count_vect = CountVectorizer(ngram_range=(1,2),min_df=5)\n",
    "Bigram_data = count_vect.fit_transform(X_initial)\n",
    "print(Bigram_data[1])"
   ]
  },
  {
   "cell_type": "code",
   "execution_count": 156,
   "metadata": {},
   "outputs": [],
   "source": [
    "#Converting its output in df:\n",
    "count_vect_df_bigram = pd.DataFrame(Bigram_data.todense(), columns=count_vect.get_feature_names())"
   ]
  },
  {
   "cell_type": "code",
   "execution_count": 157,
   "metadata": {},
   "outputs": [],
   "source": [
    "#Merging the two dataframes:\n",
    "df2.index = count_vect_df_bigram.index\n",
    "df3_bigram_merged = pd.merge(df2, count_vect_df_bigram, left_index=True, right_index=True)"
   ]
  },
  {
   "cell_type": "code",
   "execution_count": 158,
   "metadata": {},
   "outputs": [],
   "source": [
    "#Converting score column to dummies:\n",
    "df3_bigram = pd.get_dummies(df3_bigram_merged,columns=['Score'])"
   ]
  },
  {
   "cell_type": "code",
   "execution_count": 55,
   "metadata": {},
   "outputs": [],
   "source": [
    "df3_bigram.to_csv(\"bigram_summary.csv\")"
   ]
  },
  {
   "cell_type": "code",
   "execution_count": 159,
   "metadata": {},
   "outputs": [],
   "source": [
    "#Creating X and Y\n",
    "X = df3_bigram.drop(columns=['Id','ProductId','UserId','ProfileName','HelpfulnessNumerator',\\\n",
    "                    'Time','Summary','Text','Useful','Perc_helpfulness'])\n",
    "Y = df3_bigram.Useful"
   ]
  },
  {
   "cell_type": "code",
   "execution_count": 293,
   "metadata": {},
   "outputs": [],
   "source": [
    "#Splitting data into train and test\n",
    "from sklearn.model_selection import train_test_split\n",
    "X_train,X_test,Y_training,Y_test = train_test_split(X,Y,test_size = 0.3,random_state=0)"
   ]
  },
  {
   "cell_type": "code",
   "execution_count": 161,
   "metadata": {},
   "outputs": [],
   "source": [
    "#Running logistics regression:\n",
    "from sklearn.linear_model import LogisticRegression \n",
    "logreg = LogisticRegression(C=1e5) \n",
    "logreg_result_summ = logreg.fit(X_train, Y_training) \n",
    "y_pred = logreg.predict(X_test)"
   ]
  },
  {
   "cell_type": "code",
   "execution_count": 162,
   "metadata": {
    "collapsed": true
   },
   "outputs": [
    {
     "data": {
      "text/html": [
       "<div>\n",
       "<style scoped>\n",
       "    .dataframe tbody tr th:only-of-type {\n",
       "        vertical-align: middle;\n",
       "    }\n",
       "\n",
       "    .dataframe tbody tr th {\n",
       "        vertical-align: top;\n",
       "    }\n",
       "\n",
       "    .dataframe thead th {\n",
       "        text-align: right;\n",
       "    }\n",
       "</style>\n",
       "<table border=\"1\" class=\"dataframe\">\n",
       "  <thead>\n",
       "    <tr style=\"text-align: right;\">\n",
       "      <th></th>\n",
       "      <th>feature</th>\n",
       "      <th>coef</th>\n",
       "    </tr>\n",
       "  </thead>\n",
       "  <tbody>\n",
       "    <tr>\n",
       "      <th>3009</th>\n",
       "      <td>veri fast</td>\n",
       "      <td>-6.95</td>\n",
       "    </tr>\n",
       "    <tr>\n",
       "      <th>1789</th>\n",
       "      <td>match</td>\n",
       "      <td>-6.40</td>\n",
       "    </tr>\n",
       "    <tr>\n",
       "      <th>599</th>\n",
       "      <td>contain sugar</td>\n",
       "      <td>-5.58</td>\n",
       "    </tr>\n",
       "    <tr>\n",
       "      <th>294</th>\n",
       "      <td>blk</td>\n",
       "      <td>-5.38</td>\n",
       "    </tr>\n",
       "    <tr>\n",
       "      <th>1689</th>\n",
       "      <td>littl too</td>\n",
       "      <td>-5.32</td>\n",
       "    </tr>\n",
       "    <tr>\n",
       "      <th>100</th>\n",
       "      <td>arsenic</td>\n",
       "      <td>-5.12</td>\n",
       "    </tr>\n",
       "    <tr>\n",
       "      <th>2743</th>\n",
       "      <td>support</td>\n",
       "      <td>-5.12</td>\n",
       "    </tr>\n",
       "    <tr>\n",
       "      <th>3198</th>\n",
       "      <td>young</td>\n",
       "      <td>-4.99</td>\n",
       "    </tr>\n",
       "    <tr>\n",
       "      <th>1705</th>\n",
       "      <td>look good</td>\n",
       "      <td>-4.95</td>\n",
       "    </tr>\n",
       "    <tr>\n",
       "      <th>2915</th>\n",
       "      <td>transit</td>\n",
       "      <td>-4.94</td>\n",
       "    </tr>\n",
       "    <tr>\n",
       "      <th>2559</th>\n",
       "      <td>similac</td>\n",
       "      <td>-4.86</td>\n",
       "    </tr>\n",
       "    <tr>\n",
       "      <th>2684</th>\n",
       "      <td>still not</td>\n",
       "      <td>-4.82</td>\n",
       "    </tr>\n",
       "    <tr>\n",
       "      <th>534</th>\n",
       "      <td>coco</td>\n",
       "      <td>-4.69</td>\n",
       "    </tr>\n",
       "    <tr>\n",
       "      <th>1405</th>\n",
       "      <td>health benefit</td>\n",
       "      <td>-4.68</td>\n",
       "    </tr>\n",
       "    <tr>\n",
       "      <th>33</th>\n",
       "      <td>ago</td>\n",
       "      <td>-4.67</td>\n",
       "    </tr>\n",
       "    <tr>\n",
       "      <th>893</th>\n",
       "      <td>even close</td>\n",
       "      <td>-4.57</td>\n",
       "    </tr>\n",
       "    <tr>\n",
       "      <th>2971</th>\n",
       "      <td>up</td>\n",
       "      <td>-4.50</td>\n",
       "    </tr>\n",
       "    <tr>\n",
       "      <th>3129</th>\n",
       "      <td>women</td>\n",
       "      <td>-4.48</td>\n",
       "    </tr>\n",
       "    <tr>\n",
       "      <th>1434</th>\n",
       "      <td>hey</td>\n",
       "      <td>-4.46</td>\n",
       "    </tr>\n",
       "    <tr>\n",
       "      <th>2347</th>\n",
       "      <td>rabbit</td>\n",
       "      <td>-4.42</td>\n",
       "    </tr>\n",
       "    <tr>\n",
       "      <th>1329</th>\n",
       "      <td>great ship</td>\n",
       "      <td>-4.41</td>\n",
       "    </tr>\n",
       "    <tr>\n",
       "      <th>662</th>\n",
       "      <td>curri powder</td>\n",
       "      <td>-4.40</td>\n",
       "    </tr>\n",
       "    <tr>\n",
       "      <th>88</th>\n",
       "      <td>apart</td>\n",
       "      <td>-4.38</td>\n",
       "    </tr>\n",
       "    <tr>\n",
       "      <th>986</th>\n",
       "      <td>favorit food</td>\n",
       "      <td>-4.36</td>\n",
       "    </tr>\n",
       "    <tr>\n",
       "      <th>3127</th>\n",
       "      <td>within</td>\n",
       "      <td>-4.29</td>\n",
       "    </tr>\n",
       "    <tr>\n",
       "      <th>1998</th>\n",
       "      <td>not organ</td>\n",
       "      <td>-4.29</td>\n",
       "    </tr>\n",
       "    <tr>\n",
       "      <th>1971</th>\n",
       "      <td>not everyon</td>\n",
       "      <td>-4.25</td>\n",
       "    </tr>\n",
       "    <tr>\n",
       "      <th>1440</th>\n",
       "      <td>high calori</td>\n",
       "      <td>-4.23</td>\n",
       "    </tr>\n",
       "    <tr>\n",
       "      <th>1229</th>\n",
       "      <td>good true</td>\n",
       "      <td>-4.22</td>\n",
       "    </tr>\n",
       "    <tr>\n",
       "      <th>2931</th>\n",
       "      <td>truffl oil</td>\n",
       "      <td>-4.21</td>\n",
       "    </tr>\n",
       "    <tr>\n",
       "      <th>...</th>\n",
       "      <td>...</td>\n",
       "      <td>...</td>\n",
       "    </tr>\n",
       "    <tr>\n",
       "      <th>482</th>\n",
       "      <td>chewer</td>\n",
       "      <td>4.49</td>\n",
       "    </tr>\n",
       "    <tr>\n",
       "      <th>1991</th>\n",
       "      <td>not list</td>\n",
       "      <td>4.55</td>\n",
       "    </tr>\n",
       "    <tr>\n",
       "      <th>3180</th>\n",
       "      <td>year ago</td>\n",
       "      <td>4.59</td>\n",
       "    </tr>\n",
       "    <tr>\n",
       "      <th>2947</th>\n",
       "      <td>twin</td>\n",
       "      <td>4.64</td>\n",
       "    </tr>\n",
       "    <tr>\n",
       "      <th>2728</th>\n",
       "      <td>summer</td>\n",
       "      <td>4.68</td>\n",
       "    </tr>\n",
       "    <tr>\n",
       "      <th>643</th>\n",
       "      <td>crumb</td>\n",
       "      <td>4.69</td>\n",
       "    </tr>\n",
       "    <tr>\n",
       "      <th>1068</th>\n",
       "      <td>formula chang</td>\n",
       "      <td>4.73</td>\n",
       "    </tr>\n",
       "    <tr>\n",
       "      <th>1072</th>\n",
       "      <td>fragil</td>\n",
       "      <td>4.78</td>\n",
       "    </tr>\n",
       "    <tr>\n",
       "      <th>171</th>\n",
       "      <td>batch</td>\n",
       "      <td>4.79</td>\n",
       "    </tr>\n",
       "    <tr>\n",
       "      <th>626</th>\n",
       "      <td>crab</td>\n",
       "      <td>4.81</td>\n",
       "    </tr>\n",
       "    <tr>\n",
       "      <th>168</th>\n",
       "      <td>basket</td>\n",
       "      <td>4.91</td>\n",
       "    </tr>\n",
       "    <tr>\n",
       "      <th>1853</th>\n",
       "      <td>moist</td>\n",
       "      <td>4.93</td>\n",
       "    </tr>\n",
       "    <tr>\n",
       "      <th>3184</th>\n",
       "      <td>yep</td>\n",
       "      <td>4.95</td>\n",
       "    </tr>\n",
       "    <tr>\n",
       "      <th>3163</th>\n",
       "      <td>would buy</td>\n",
       "      <td>5.05</td>\n",
       "    </tr>\n",
       "    <tr>\n",
       "      <th>152</th>\n",
       "      <td>baker</td>\n",
       "      <td>5.19</td>\n",
       "    </tr>\n",
       "    <tr>\n",
       "      <th>1855</th>\n",
       "      <td>mold</td>\n",
       "      <td>5.24</td>\n",
       "    </tr>\n",
       "    <tr>\n",
       "      <th>2978</th>\n",
       "      <td>use good</td>\n",
       "      <td>5.25</td>\n",
       "    </tr>\n",
       "    <tr>\n",
       "      <th>279</th>\n",
       "      <td>bit pricey</td>\n",
       "      <td>5.30</td>\n",
       "    </tr>\n",
       "    <tr>\n",
       "      <th>774</th>\n",
       "      <td>doctor</td>\n",
       "      <td>5.34</td>\n",
       "    </tr>\n",
       "    <tr>\n",
       "      <th>749</th>\n",
       "      <td>differ tast</td>\n",
       "      <td>5.38</td>\n",
       "    </tr>\n",
       "    <tr>\n",
       "      <th>2325</th>\n",
       "      <td>puzzl</td>\n",
       "      <td>5.46</td>\n",
       "    </tr>\n",
       "    <tr>\n",
       "      <th>2321</th>\n",
       "      <td>pure vanilla</td>\n",
       "      <td>5.46</td>\n",
       "    </tr>\n",
       "    <tr>\n",
       "      <th>2186</th>\n",
       "      <td>pistachio</td>\n",
       "      <td>5.57</td>\n",
       "    </tr>\n",
       "    <tr>\n",
       "      <th>760</th>\n",
       "      <td>disappoint product</td>\n",
       "      <td>5.72</td>\n",
       "    </tr>\n",
       "    <tr>\n",
       "      <th>1181</th>\n",
       "      <td>good altern</td>\n",
       "      <td>5.85</td>\n",
       "    </tr>\n",
       "    <tr>\n",
       "      <th>2319</th>\n",
       "      <td>purchas amazon</td>\n",
       "      <td>6.55</td>\n",
       "    </tr>\n",
       "    <tr>\n",
       "      <th>2130</th>\n",
       "      <td>parti</td>\n",
       "      <td>6.57</td>\n",
       "    </tr>\n",
       "    <tr>\n",
       "      <th>90</th>\n",
       "      <td>appear</td>\n",
       "      <td>6.65</td>\n",
       "    </tr>\n",
       "    <tr>\n",
       "      <th>89</th>\n",
       "      <td>appar</td>\n",
       "      <td>7.12</td>\n",
       "    </tr>\n",
       "    <tr>\n",
       "      <th>2039</th>\n",
       "      <td>nutrient</td>\n",
       "      <td>8.07</td>\n",
       "    </tr>\n",
       "  </tbody>\n",
       "</table>\n",
       "<p>3220 rows × 2 columns</p>\n",
       "</div>"
      ],
      "text/plain": [
       "                 feature  coef\n",
       "3009           veri fast -6.95\n",
       "1789               match -6.40\n",
       "599        contain sugar -5.58\n",
       "294                  blk -5.38\n",
       "1689           littl too -5.32\n",
       "100              arsenic -5.12\n",
       "2743             support -5.12\n",
       "3198               young -4.99\n",
       "1705           look good -4.95\n",
       "2915             transit -4.94\n",
       "2559             similac -4.86\n",
       "2684           still not -4.82\n",
       "534                 coco -4.69\n",
       "1405      health benefit -4.68\n",
       "33                   ago -4.67\n",
       "893           even close -4.57\n",
       "2971                  up -4.50\n",
       "3129               women -4.48\n",
       "1434                 hey -4.46\n",
       "2347              rabbit -4.42\n",
       "1329          great ship -4.41\n",
       "662         curri powder -4.40\n",
       "88                 apart -4.38\n",
       "986         favorit food -4.36\n",
       "3127              within -4.29\n",
       "1998           not organ -4.29\n",
       "1971         not everyon -4.25\n",
       "1440         high calori -4.23\n",
       "1229           good true -4.22\n",
       "2931          truffl oil -4.21\n",
       "...                  ...   ...\n",
       "482               chewer  4.49\n",
       "1991            not list  4.55\n",
       "3180            year ago  4.59\n",
       "2947                twin  4.64\n",
       "2728              summer  4.68\n",
       "643                crumb  4.69\n",
       "1068       formula chang  4.73\n",
       "1072              fragil  4.78\n",
       "171                batch  4.79\n",
       "626                 crab  4.81\n",
       "168               basket  4.91\n",
       "1853               moist  4.93\n",
       "3184                 yep  4.95\n",
       "3163           would buy  5.05\n",
       "152                baker  5.19\n",
       "1855                mold  5.24\n",
       "2978            use good  5.25\n",
       "279           bit pricey  5.30\n",
       "774               doctor  5.34\n",
       "749          differ tast  5.38\n",
       "2325               puzzl  5.46\n",
       "2321        pure vanilla  5.46\n",
       "2186           pistachio  5.57\n",
       "760   disappoint product  5.72\n",
       "1181         good altern  5.85\n",
       "2319      purchas amazon  6.55\n",
       "2130               parti  6.57\n",
       "90                appear  6.65\n",
       "89                 appar  7.12\n",
       "2039            nutrient  8.07\n",
       "\n",
       "[3220 rows x 2 columns]"
      ]
     },
     "execution_count": 162,
     "metadata": {},
     "output_type": "execute_result"
    }
   ],
   "source": [
    "#Getting the log reg coefficients:\n",
    "#words = count_vect.get_feature_names()\n",
    "feature_coefs = pd.DataFrame( data = list(zip(X.columns, logreg_result_summ.coef_[0])),columns = ['feature', 'coef']) \n",
    "feature_coefs.sort_values(by='coef')"
   ]
  },
  {
   "cell_type": "code",
   "execution_count": 173,
   "metadata": {},
   "outputs": [
    {
     "data": {
      "text/html": [
       "<div>\n",
       "<style scoped>\n",
       "    .dataframe tbody tr th:only-of-type {\n",
       "        vertical-align: middle;\n",
       "    }\n",
       "\n",
       "    .dataframe tbody tr th {\n",
       "        vertical-align: top;\n",
       "    }\n",
       "\n",
       "    .dataframe thead th {\n",
       "        text-align: right;\n",
       "    }\n",
       "</style>\n",
       "<table border=\"1\" class=\"dataframe\">\n",
       "  <thead>\n",
       "    <tr style=\"text-align: right;\">\n",
       "      <th></th>\n",
       "      <th>feature</th>\n",
       "      <th>coef</th>\n",
       "    </tr>\n",
       "  </thead>\n",
       "  <tbody>\n",
       "    <tr>\n",
       "      <th>3</th>\n",
       "      <td>Exclamation_count</td>\n",
       "      <td>-0.01</td>\n",
       "    </tr>\n",
       "  </tbody>\n",
       "</table>\n",
       "</div>"
      ],
      "text/plain": [
       "             feature  coef\n",
       "3  Exclamation_count -0.01"
      ]
     },
     "execution_count": 173,
     "metadata": {},
     "output_type": "execute_result"
    }
   ],
   "source": [
    "feature_coefs[feature_coefs.feature == 'Exclamation_count']"
   ]
  },
  {
   "cell_type": "code",
   "execution_count": 174,
   "metadata": {},
   "outputs": [
    {
     "data": {
      "text/plain": [
       "GridSearchCV(cv=5, error_score='raise-deprecating',\n",
       "       estimator=LogisticRegression(C=1.0, class_weight=None, dual=False, fit_intercept=True,\n",
       "          intercept_scaling=1, max_iter=100, multi_class='warn',\n",
       "          n_jobs=None, penalty='l2', random_state=None, solver='warn',\n",
       "          tol=0.0001, verbose=0, warm_start=False),\n",
       "       fit_params=None, iid='warn', n_jobs=None,\n",
       "       param_grid={'C': [0.001, 0.01, 0.1, 1, 10]},\n",
       "       pre_dispatch='2*n_jobs', refit=True, return_train_score='warn',\n",
       "       scoring=None, verbose=0)"
      ]
     },
     "execution_count": 174,
     "metadata": {},
     "output_type": "execute_result"
    },
    {
     "name": "stdout",
     "output_type": "stream",
     "text": [
      "Best cross-validation score: 0.84\n",
      "Best parameters:  {'C': 0.1}\n",
      "Best estimator:  LogisticRegression(C=0.1, class_weight=None, dual=False, fit_intercept=True,\n",
      "          intercept_scaling=1, max_iter=100, multi_class='warn',\n",
      "          n_jobs=None, penalty='l2', random_state=None, solver='warn',\n",
      "          tol=0.0001, verbose=0, warm_start=False)\n"
     ]
    }
   ],
   "source": [
    "param_grid = {'C': [0.001, 0.01, 0.1, 1, 10]}\n",
    "grid = GridSearchCV(LogisticRegression(), param_grid, cv=5)\n",
    "grid.fit(X_train, Y_training)\n",
    "\n",
    "print(\"Best cross-validation score: {:.2f}\".format(grid.best_score_))\n",
    "print(\"Best parameters: \", grid.best_params_)\n",
    "print(\"Best estimator: \", grid.best_estimator_)"
   ]
  },
  {
   "cell_type": "code",
   "execution_count": 175,
   "metadata": {},
   "outputs": [
    {
     "data": {
      "image/png": "[encoded data removed]",
      "text/plain": [
       "<Figure size 1080x360 with 1 Axes>"
      ]
     },
     "metadata": {
      "needs_background": "light"
     },
     "output_type": "display_data"
    }
   ],
   "source": [
    "import matplotlib.pyplot as plt\n",
    "\n",
    "mglearn.tools.visualize_coefficients(grid.best_estimator_.coef_, X.columns, n_top_features=30)\n",
    "plt.show()"
   ]
  },
  {
   "cell_type": "code",
   "execution_count": 181,
   "metadata": {},
   "outputs": [],
   "source": [
    "X.columns.index = (grid.best_estimator_.coef_)"
   ]
  },
  {
   "cell_type": "code",
   "execution_count": 194,
   "metadata": {},
   "outputs": [],
   "source": [
    "df = pd.DataFrame(grid.best_estimator_.coef_)"
   ]
  },
  {
   "cell_type": "code",
   "execution_count": 198,
   "metadata": {},
   "outputs": [],
   "source": [
    "df.columns = X.columns"
   ]
  },
  {
   "cell_type": "code",
   "execution_count": 218,
   "metadata": {},
   "outputs": [],
   "source": [
    "x = ['Coef']"
   ]
  },
  {
   "cell_type": "code",
   "execution_count": 219,
   "metadata": {
    "scrolled": true
   },
   "outputs": [],
   "source": [
    "a.columns = x"
   ]
  },
  {
   "cell_type": "code",
   "execution_count": 225,
   "metadata": {
    "collapsed": true
   },
   "outputs": [
    {
     "data": {
      "text/html": [
       "<div>\n",
       "<style scoped>\n",
       "    .dataframe tbody tr th:only-of-type {\n",
       "        vertical-align: middle;\n",
       "    }\n",
       "\n",
       "    .dataframe tbody tr th {\n",
       "        vertical-align: top;\n",
       "    }\n",
       "\n",
       "    .dataframe thead th {\n",
       "        text-align: right;\n",
       "    }\n",
       "</style>\n",
       "<table border=\"1\" class=\"dataframe\">\n",
       "  <thead>\n",
       "    <tr style=\"text-align: right;\">\n",
       "      <th></th>\n",
       "      <th>Coef</th>\n",
       "    </tr>\n",
       "  </thead>\n",
       "  <tbody>\n",
       "    <tr>\n",
       "      <th>Score_1</th>\n",
       "      <td>-1.35</td>\n",
       "    </tr>\n",
       "    <tr>\n",
       "      <th>Score_2</th>\n",
       "      <td>-1.00</td>\n",
       "    </tr>\n",
       "    <tr>\n",
       "      <th>water</th>\n",
       "      <td>-0.89</td>\n",
       "    </tr>\n",
       "    <tr>\n",
       "      <th>review</th>\n",
       "      <td>-0.68</td>\n",
       "    </tr>\n",
       "    <tr>\n",
       "      <th>servic</th>\n",
       "      <td>-0.67</td>\n",
       "    </tr>\n",
       "    <tr>\n",
       "      <th>msg</th>\n",
       "      <td>-0.51</td>\n",
       "    </tr>\n",
       "    <tr>\n",
       "      <th>disgust</th>\n",
       "      <td>-0.50</td>\n",
       "    </tr>\n",
       "    <tr>\n",
       "      <th>gift</th>\n",
       "      <td>-0.49</td>\n",
       "    </tr>\n",
       "    <tr>\n",
       "      <th>Score_3</th>\n",
       "      <td>-0.49</td>\n",
       "    </tr>\n",
       "    <tr>\n",
       "      <th>nasti</th>\n",
       "      <td>-0.48</td>\n",
       "    </tr>\n",
       "    <tr>\n",
       "      <th>great servic</th>\n",
       "      <td>-0.44</td>\n",
       "    </tr>\n",
       "    <tr>\n",
       "      <th>coffe</th>\n",
       "      <td>-0.44</td>\n",
       "    </tr>\n",
       "    <tr>\n",
       "      <th>horribl</th>\n",
       "      <td>-0.41</td>\n",
       "    </tr>\n",
       "    <tr>\n",
       "      <th>drink</th>\n",
       "      <td>-0.41</td>\n",
       "    </tr>\n",
       "    <tr>\n",
       "      <th>day</th>\n",
       "      <td>-0.40</td>\n",
       "    </tr>\n",
       "    <tr>\n",
       "      <th>save</th>\n",
       "      <td>-0.40</td>\n",
       "    </tr>\n",
       "    <tr>\n",
       "      <th>not worth</th>\n",
       "      <td>-0.39</td>\n",
       "    </tr>\n",
       "    <tr>\n",
       "      <th>worst</th>\n",
       "      <td>-0.38</td>\n",
       "    </tr>\n",
       "    <tr>\n",
       "      <th>love love</th>\n",
       "      <td>-0.37</td>\n",
       "    </tr>\n",
       "    <tr>\n",
       "      <th>ramen</th>\n",
       "      <td>-0.37</td>\n",
       "    </tr>\n",
       "    <tr>\n",
       "      <th>peopl</th>\n",
       "      <td>-0.36</td>\n",
       "    </tr>\n",
       "    <tr>\n",
       "      <th>blk</th>\n",
       "      <td>-0.35</td>\n",
       "    </tr>\n",
       "    <tr>\n",
       "      <th>doesnt</th>\n",
       "      <td>-0.35</td>\n",
       "    </tr>\n",
       "    <tr>\n",
       "      <th>energi</th>\n",
       "      <td>-0.34</td>\n",
       "    </tr>\n",
       "    <tr>\n",
       "      <th>not good</th>\n",
       "      <td>-0.34</td>\n",
       "    </tr>\n",
       "    <tr>\n",
       "      <th>receiv</th>\n",
       "      <td>-0.34</td>\n",
       "    </tr>\n",
       "    <tr>\n",
       "      <th>purchas</th>\n",
       "      <td>-0.33</td>\n",
       "    </tr>\n",
       "    <tr>\n",
       "      <th>yuck</th>\n",
       "      <td>-0.32</td>\n",
       "    </tr>\n",
       "    <tr>\n",
       "      <th>sick</th>\n",
       "      <td>-0.32</td>\n",
       "    </tr>\n",
       "    <tr>\n",
       "      <th>high</th>\n",
       "      <td>-0.32</td>\n",
       "    </tr>\n",
       "    <tr>\n",
       "      <th>...</th>\n",
       "      <td>...</td>\n",
       "    </tr>\n",
       "    <tr>\n",
       "      <th>chicken</th>\n",
       "      <td>0.37</td>\n",
       "    </tr>\n",
       "    <tr>\n",
       "      <th>pasta</th>\n",
       "      <td>0.38</td>\n",
       "    </tr>\n",
       "    <tr>\n",
       "      <th>line</th>\n",
       "      <td>0.38</td>\n",
       "    </tr>\n",
       "    <tr>\n",
       "      <th>should</th>\n",
       "      <td>0.39</td>\n",
       "    </tr>\n",
       "    <tr>\n",
       "      <th>bread</th>\n",
       "      <td>0.40</td>\n",
       "    </tr>\n",
       "    <tr>\n",
       "      <th>great</th>\n",
       "      <td>0.40</td>\n",
       "    </tr>\n",
       "    <tr>\n",
       "      <th>good</th>\n",
       "      <td>0.41</td>\n",
       "    </tr>\n",
       "    <tr>\n",
       "      <th>disappoint</th>\n",
       "      <td>0.41</td>\n",
       "    </tr>\n",
       "    <tr>\n",
       "      <th>buyer bewar</th>\n",
       "      <td>0.42</td>\n",
       "    </tr>\n",
       "    <tr>\n",
       "      <th>new</th>\n",
       "      <td>0.42</td>\n",
       "    </tr>\n",
       "    <tr>\n",
       "      <th>not quit</th>\n",
       "      <td>0.42</td>\n",
       "    </tr>\n",
       "    <tr>\n",
       "      <th>use</th>\n",
       "      <td>0.42</td>\n",
       "    </tr>\n",
       "    <tr>\n",
       "      <th>without</th>\n",
       "      <td>0.43</td>\n",
       "    </tr>\n",
       "    <tr>\n",
       "      <th>date</th>\n",
       "      <td>0.43</td>\n",
       "    </tr>\n",
       "    <tr>\n",
       "      <th>back</th>\n",
       "      <td>0.44</td>\n",
       "    </tr>\n",
       "    <tr>\n",
       "      <th>recip</th>\n",
       "      <td>0.46</td>\n",
       "    </tr>\n",
       "    <tr>\n",
       "      <th>low</th>\n",
       "      <td>0.46</td>\n",
       "    </tr>\n",
       "    <tr>\n",
       "      <th>rip</th>\n",
       "      <td>0.47</td>\n",
       "    </tr>\n",
       "    <tr>\n",
       "      <th>yum</th>\n",
       "      <td>0.47</td>\n",
       "    </tr>\n",
       "    <tr>\n",
       "      <th>excel</th>\n",
       "      <td>0.49</td>\n",
       "    </tr>\n",
       "    <tr>\n",
       "      <th>bewar</th>\n",
       "      <td>0.50</td>\n",
       "    </tr>\n",
       "    <tr>\n",
       "      <th>delici</th>\n",
       "      <td>0.50</td>\n",
       "    </tr>\n",
       "    <tr>\n",
       "      <th>best</th>\n",
       "      <td>0.51</td>\n",
       "    </tr>\n",
       "    <tr>\n",
       "      <th>stale</th>\n",
       "      <td>0.51</td>\n",
       "    </tr>\n",
       "    <tr>\n",
       "      <th>work</th>\n",
       "      <td>0.52</td>\n",
       "    </tr>\n",
       "    <tr>\n",
       "      <th>qualiti</th>\n",
       "      <td>0.60</td>\n",
       "    </tr>\n",
       "    <tr>\n",
       "      <th>pictur</th>\n",
       "      <td>0.80</td>\n",
       "    </tr>\n",
       "    <tr>\n",
       "      <th>chang</th>\n",
       "      <td>0.99</td>\n",
       "    </tr>\n",
       "    <tr>\n",
       "      <th>Score_4</th>\n",
       "      <td>1.21</td>\n",
       "    </tr>\n",
       "    <tr>\n",
       "      <th>Score_5</th>\n",
       "      <td>2.09</td>\n",
       "    </tr>\n",
       "  </tbody>\n",
       "</table>\n",
       "<p>3220 rows × 1 columns</p>\n",
       "</div>"
      ],
      "text/plain": [
       "              Coef\n",
       "Score_1      -1.35\n",
       "Score_2      -1.00\n",
       "water        -0.89\n",
       "review       -0.68\n",
       "servic       -0.67\n",
       "msg          -0.51\n",
       "disgust      -0.50\n",
       "gift         -0.49\n",
       "Score_3      -0.49\n",
       "nasti        -0.48\n",
       "great servic -0.44\n",
       "coffe        -0.44\n",
       "horribl      -0.41\n",
       "drink        -0.41\n",
       "day          -0.40\n",
       "save         -0.40\n",
       "not worth    -0.39\n",
       "worst        -0.38\n",
       "love love    -0.37\n",
       "ramen        -0.37\n",
       "peopl        -0.36\n",
       "blk          -0.35\n",
       "doesnt       -0.35\n",
       "energi       -0.34\n",
       "not good     -0.34\n",
       "receiv       -0.34\n",
       "purchas      -0.33\n",
       "yuck         -0.32\n",
       "sick         -0.32\n",
       "high         -0.32\n",
       "...            ...\n",
       "chicken       0.37\n",
       "pasta         0.38\n",
       "line          0.38\n",
       "should        0.39\n",
       "bread         0.40\n",
       "great         0.40\n",
       "good          0.41\n",
       "disappoint    0.41\n",
       "buyer bewar   0.42\n",
       "new           0.42\n",
       "not quit      0.42\n",
       "use           0.42\n",
       "without       0.43\n",
       "date          0.43\n",
       "back          0.44\n",
       "recip         0.46\n",
       "low           0.46\n",
       "rip           0.47\n",
       "yum           0.47\n",
       "excel         0.49\n",
       "bewar         0.50\n",
       "delici        0.50\n",
       "best          0.51\n",
       "stale         0.51\n",
       "work          0.52\n",
       "qualiti       0.60\n",
       "pictur        0.80\n",
       "chang         0.99\n",
       "Score_4       1.21\n",
       "Score_5       2.09\n",
       "\n",
       "[3220 rows x 1 columns]"
      ]
     },
     "execution_count": 225,
     "metadata": {},
     "output_type": "execute_result"
    }
   ],
   "source": [
    "a.sort_values('Coef')"
   ]
  },
  {
   "cell_type": "code",
   "execution_count": null,
   "metadata": {},
   "outputs": [],
   "source": []
  },
  {
   "cell_type": "code",
   "execution_count": 221,
   "metadata": {},
   "outputs": [
    {
     "data": {
      "text/plain": [
       "Index(['HelpfulnessDenominator', 'Comment_Len', 'Smileys_count',\n",
       "       'Exclamation_count', 'Sad_Smileys_count', 'abl', 'absolut',\n",
       "       'absolut aw', 'absolut best', 'absolut delici',\n",
       "       ...\n",
       "       'yummiest', 'yummm', 'zero', 'zero star', 'zevia', 'Score_1', 'Score_2',\n",
       "       'Score_3', 'Score_4', 'Score_5'],\n",
       "      dtype='object', length=3220)"
      ]
     },
     "execution_count": 221,
     "metadata": {},
     "output_type": "execute_result"
    }
   ],
   "source": [
    "a.index"
   ]
  },
  {
   "cell_type": "code",
   "execution_count": 215,
   "metadata": {},
   "outputs": [],
   "source": [
    "a = df.T"
   ]
  },
  {
   "cell_type": "code",
   "execution_count": 193,
   "metadata": {},
   "outputs": [
    {
     "data": {
      "text/plain": [
       "array([[-0.07537199,  0.00210006,  0.09864897, ..., -0.49137462,\n",
       "         1.21105006,  2.09188949]])"
      ]
     },
     "execution_count": 193,
     "metadata": {},
     "output_type": "execute_result"
    }
   ],
   "source": [
    "grid.best_estimator_.coef_"
   ]
  },
  {
   "cell_type": "code",
   "execution_count": null,
   "metadata": {},
   "outputs": [],
   "source": [
    "from sklearn.ensemble import RandomForestClassifier\n",
    "\n",
    "cl = RandomForestClassifier(random_state = 2)\n",
    "cl.fit(X_train,Y_training)"
   ]
  },
  {
   "cell_type": "code",
   "execution_count": 196,
   "metadata": {
    "collapsed": true
   },
   "outputs": [
    {
     "data": {
      "text/plain": [
       "LogisticRegression(C=0.1, class_weight=None, dual=False, fit_intercept=True,\n",
       "          intercept_scaling=1, max_iter=100, multi_class='warn',\n",
       "          n_jobs=None, penalty='l2', random_state=None, solver='warn',\n",
       "          tol=0.0001, verbose=0, warm_start=False)"
      ]
     },
     "execution_count": 196,
     "metadata": {},
     "output_type": "execute_result"
    },
    {
     "data": {
      "text/plain": [
       "array([1, 0, 1, ..., 1, 1, 1], dtype=int64)"
      ]
     },
     "execution_count": 196,
     "metadata": {},
     "output_type": "execute_result"
    },
    {
     "name": "stdout",
     "output_type": "stream",
     "text": [
      "Score: 0.87\n"
     ]
    }
   ],
   "source": [
    "lr = grid.best_estimator_\n",
    "lr.fit(X_train, Y_training)\n",
    "lr.predict(X_test)\n",
    "print(\"Score: {:.2f}\".format(lr.score(X_test, Y_test)))"
   ]
  },
  {
   "cell_type": "code",
   "execution_count": 63,
   "metadata": {},
   "outputs": [],
   "source": [
    "import math \n",
    "import matplotlib.pyplot as plt \n",
    "import pandas as pd\n",
    "import numpy as np\n",
    "# difference of lasso and ridge regression is that some of the coefficients can be zero i.e. some of the features are \n",
    "# completely neglected\n",
    "from sklearn.linear_model import Lasso\n",
    "from sklearn.linear_model import LinearRegression"
   ]
  },
  {
   "cell_type": "code",
   "execution_count": 226,
   "metadata": {},
   "outputs": [],
   "source": [
    "# Show Lasso coefficients\n",
    "def lassoRegression(para1, para2):\n",
    "    lasso = Lasso(alpha = 0.00008, fit_intercept=True, normalize=True, max_iter=1000, )\n",
    "    lasso.fit(para1, para2)\n",
    "    return lasso.coef_\n",
    "\n",
    "model_lasso = lassoRegression(X_train,Y_training)"
   ]
  },
  {
   "cell_type": "code",
   "execution_count": 249,
   "metadata": {},
   "outputs": [
    {
     "data": {
      "text/plain": [
       "17"
      ]
     },
     "execution_count": 249,
     "metadata": {},
     "output_type": "execute_result"
    }
   ],
   "source": [
    "len(model_lasso[model_lasso != 0])"
   ]
  },
  {
   "cell_type": "code",
   "execution_count": 228,
   "metadata": {},
   "outputs": [],
   "source": [
    "Lasso_coef = pd.DataFrame(model_lasso)"
   ]
  },
  {
   "cell_type": "code",
   "execution_count": 233,
   "metadata": {},
   "outputs": [],
   "source": [
    "Lasso_coef = Lasso_coef.T"
   ]
  },
  {
   "cell_type": "code",
   "execution_count": 234,
   "metadata": {},
   "outputs": [],
   "source": [
    "Lasso_coef.columns = X.columns"
   ]
  },
  {
   "cell_type": "code",
   "execution_count": 237,
   "metadata": {},
   "outputs": [],
   "source": [
    "Lasso_coef = Lasso_coef.T"
   ]
  },
  {
   "cell_type": "code",
   "execution_count": 239,
   "metadata": {},
   "outputs": [],
   "source": [
    "Lasso_coef.columns = x"
   ]
  },
  {
   "cell_type": "code",
   "execution_count": 243,
   "metadata": {
    "collapsed": true
   },
   "outputs": [
    {
     "data": {
      "text/html": [
       "<div>\n",
       "<style scoped>\n",
       "    .dataframe tbody tr th:only-of-type {\n",
       "        vertical-align: middle;\n",
       "    }\n",
       "\n",
       "    .dataframe tbody tr th {\n",
       "        vertical-align: top;\n",
       "    }\n",
       "\n",
       "    .dataframe thead th {\n",
       "        text-align: right;\n",
       "    }\n",
       "</style>\n",
       "<table border=\"1\" class=\"dataframe\">\n",
       "  <thead>\n",
       "    <tr style=\"text-align: right;\">\n",
       "      <th></th>\n",
       "      <th>Coef</th>\n",
       "    </tr>\n",
       "  </thead>\n",
       "  <tbody>\n",
       "    <tr>\n",
       "      <th>Score_5</th>\n",
       "      <td>4.45e-01</td>\n",
       "    </tr>\n",
       "    <tr>\n",
       "      <th>Score_4</th>\n",
       "      <td>3.26e-01</td>\n",
       "    </tr>\n",
       "    <tr>\n",
       "      <th>chang</th>\n",
       "      <td>1.74e-01</td>\n",
       "    </tr>\n",
       "    <tr>\n",
       "      <th>pictur</th>\n",
       "      <td>9.15e-02</td>\n",
       "    </tr>\n",
       "    <tr>\n",
       "      <th>buyer bewar</th>\n",
       "      <td>7.36e-02</td>\n",
       "    </tr>\n",
       "    <tr>\n",
       "      <th>good</th>\n",
       "      <td>5.12e-03</td>\n",
       "    </tr>\n",
       "    <tr>\n",
       "      <th>qualiti</th>\n",
       "      <td>3.88e-03</td>\n",
       "    </tr>\n",
       "    <tr>\n",
       "      <th>great</th>\n",
       "      <td>2.23e-03</td>\n",
       "    </tr>\n",
       "    <tr>\n",
       "      <th>Comment_Len</th>\n",
       "      <td>6.59e-05</td>\n",
       "    </tr>\n",
       "    <tr>\n",
       "      <th>pad</th>\n",
       "      <td>0.00e+00</td>\n",
       "    </tr>\n",
       "    <tr>\n",
       "      <th>pearl</th>\n",
       "      <td>0.00e+00</td>\n",
       "    </tr>\n",
       "    <tr>\n",
       "      <th>pay</th>\n",
       "      <td>0.00e+00</td>\n",
       "    </tr>\n",
       "    <tr>\n",
       "      <th>pb</th>\n",
       "      <td>-0.00e+00</td>\n",
       "    </tr>\n",
       "    <tr>\n",
       "      <th>pea</th>\n",
       "      <td>0.00e+00</td>\n",
       "    </tr>\n",
       "    <tr>\n",
       "      <th>peac</th>\n",
       "      <td>0.00e+00</td>\n",
       "    </tr>\n",
       "    <tr>\n",
       "      <th>peach</th>\n",
       "      <td>0.00e+00</td>\n",
       "    </tr>\n",
       "    <tr>\n",
       "      <th>packet</th>\n",
       "      <td>-0.00e+00</td>\n",
       "    </tr>\n",
       "    <tr>\n",
       "      <th>peanut</th>\n",
       "      <td>-0.00e+00</td>\n",
       "    </tr>\n",
       "    <tr>\n",
       "      <th>peanut butter</th>\n",
       "      <td>-0.00e+00</td>\n",
       "    </tr>\n",
       "    <tr>\n",
       "      <th>pecan</th>\n",
       "      <td>-0.00e+00</td>\n",
       "    </tr>\n",
       "    <tr>\n",
       "      <th>patient</th>\n",
       "      <td>0.00e+00</td>\n",
       "    </tr>\n",
       "    <tr>\n",
       "      <th>pectin</th>\n",
       "      <td>0.00e+00</td>\n",
       "    </tr>\n",
       "    <tr>\n",
       "      <th>penni</th>\n",
       "      <td>0.00e+00</td>\n",
       "    </tr>\n",
       "    <tr>\n",
       "      <th>peopl</th>\n",
       "      <td>-0.00e+00</td>\n",
       "    </tr>\n",
       "    <tr>\n",
       "      <th>pepper</th>\n",
       "      <td>0.00e+00</td>\n",
       "    </tr>\n",
       "    <tr>\n",
       "      <th>peppercorn</th>\n",
       "      <td>-0.00e+00</td>\n",
       "    </tr>\n",
       "    <tr>\n",
       "      <th>peppermint</th>\n",
       "      <td>-0.00e+00</td>\n",
       "    </tr>\n",
       "    <tr>\n",
       "      <th>pepsi</th>\n",
       "      <td>-0.00e+00</td>\n",
       "    </tr>\n",
       "    <tr>\n",
       "      <th>per</th>\n",
       "      <td>0.00e+00</td>\n",
       "    </tr>\n",
       "    <tr>\n",
       "      <th>per serv</th>\n",
       "      <td>-0.00e+00</td>\n",
       "    </tr>\n",
       "    <tr>\n",
       "      <th>...</th>\n",
       "      <td>...</td>\n",
       "    </tr>\n",
       "    <tr>\n",
       "      <th>free flour</th>\n",
       "      <td>0.00e+00</td>\n",
       "    </tr>\n",
       "    <tr>\n",
       "      <th>free not</th>\n",
       "      <td>-0.00e+00</td>\n",
       "    </tr>\n",
       "    <tr>\n",
       "      <th>free bake</th>\n",
       "      <td>0.00e+00</td>\n",
       "    </tr>\n",
       "    <tr>\n",
       "      <th>fool</th>\n",
       "      <td>-0.00e+00</td>\n",
       "    </tr>\n",
       "    <tr>\n",
       "      <th>food not</th>\n",
       "      <td>-0.00e+00</td>\n",
       "    </tr>\n",
       "    <tr>\n",
       "      <th>forget</th>\n",
       "      <td>-0.00e+00</td>\n",
       "    </tr>\n",
       "    <tr>\n",
       "      <th>form</th>\n",
       "      <td>0.00e+00</td>\n",
       "    </tr>\n",
       "    <tr>\n",
       "      <th>formula</th>\n",
       "      <td>0.00e+00</td>\n",
       "    </tr>\n",
       "    <tr>\n",
       "      <th>free</th>\n",
       "      <td>0.00e+00</td>\n",
       "    </tr>\n",
       "    <tr>\n",
       "      <th>formula chang</th>\n",
       "      <td>0.00e+00</td>\n",
       "    </tr>\n",
       "    <tr>\n",
       "      <th>foul</th>\n",
       "      <td>0.00e+00</td>\n",
       "    </tr>\n",
       "    <tr>\n",
       "      <th>food great</th>\n",
       "      <td>0.00e+00</td>\n",
       "    </tr>\n",
       "    <tr>\n",
       "      <th>found</th>\n",
       "      <td>0.00e+00</td>\n",
       "    </tr>\n",
       "    <tr>\n",
       "      <th>four</th>\n",
       "      <td>-0.00e+00</td>\n",
       "    </tr>\n",
       "    <tr>\n",
       "      <th>fragil</th>\n",
       "      <td>0.00e+00</td>\n",
       "    </tr>\n",
       "    <tr>\n",
       "      <th>fragranc</th>\n",
       "      <td>0.00e+00</td>\n",
       "    </tr>\n",
       "    <tr>\n",
       "      <th>fragrant</th>\n",
       "      <td>0.00e+00</td>\n",
       "    </tr>\n",
       "    <tr>\n",
       "      <th>food good</th>\n",
       "      <td>-0.00e+00</td>\n",
       "    </tr>\n",
       "    <tr>\n",
       "      <th>franc</th>\n",
       "      <td>-0.00e+00</td>\n",
       "    </tr>\n",
       "    <tr>\n",
       "      <th>francisco</th>\n",
       "      <td>-0.00e+00</td>\n",
       "    </tr>\n",
       "    <tr>\n",
       "      <th>fraud</th>\n",
       "      <td>-0.00e+00</td>\n",
       "    </tr>\n",
       "    <tr>\n",
       "      <th>forev</th>\n",
       "      <td>0.00e+00</td>\n",
       "    </tr>\n",
       "    <tr>\n",
       "      <th>HelpfulnessDenominator</th>\n",
       "      <td>-3.91e-03</td>\n",
       "    </tr>\n",
       "    <tr>\n",
       "      <th>great servic</th>\n",
       "      <td>-2.12e-02</td>\n",
       "    </tr>\n",
       "    <tr>\n",
       "      <th>review</th>\n",
       "      <td>-3.69e-02</td>\n",
       "    </tr>\n",
       "    <tr>\n",
       "      <th>water</th>\n",
       "      <td>-4.95e-02</td>\n",
       "    </tr>\n",
       "    <tr>\n",
       "      <th>like water</th>\n",
       "      <td>-8.75e-02</td>\n",
       "    </tr>\n",
       "    <tr>\n",
       "      <th>Score_2</th>\n",
       "      <td>-1.14e-01</td>\n",
       "    </tr>\n",
       "    <tr>\n",
       "      <th>blk</th>\n",
       "      <td>-1.35e-01</td>\n",
       "    </tr>\n",
       "    <tr>\n",
       "      <th>Score_1</th>\n",
       "      <td>-2.06e-01</td>\n",
       "    </tr>\n",
       "  </tbody>\n",
       "</table>\n",
       "<p>3220 rows × 1 columns</p>\n",
       "</div>"
      ],
      "text/plain": [
       "                            Coef\n",
       "Score_5                 4.45e-01\n",
       "Score_4                 3.26e-01\n",
       "chang                   1.74e-01\n",
       "pictur                  9.15e-02\n",
       "buyer bewar             7.36e-02\n",
       "good                    5.12e-03\n",
       "qualiti                 3.88e-03\n",
       "great                   2.23e-03\n",
       "Comment_Len             6.59e-05\n",
       "pad                     0.00e+00\n",
       "pearl                   0.00e+00\n",
       "pay                     0.00e+00\n",
       "pb                     -0.00e+00\n",
       "pea                     0.00e+00\n",
       "peac                    0.00e+00\n",
       "peach                   0.00e+00\n",
       "packet                 -0.00e+00\n",
       "peanut                 -0.00e+00\n",
       "peanut butter          -0.00e+00\n",
       "pecan                  -0.00e+00\n",
       "patient                 0.00e+00\n",
       "pectin                  0.00e+00\n",
       "penni                   0.00e+00\n",
       "peopl                  -0.00e+00\n",
       "pepper                  0.00e+00\n",
       "peppercorn             -0.00e+00\n",
       "peppermint             -0.00e+00\n",
       "pepsi                  -0.00e+00\n",
       "per                     0.00e+00\n",
       "per serv               -0.00e+00\n",
       "...                          ...\n",
       "free flour              0.00e+00\n",
       "free not               -0.00e+00\n",
       "free bake               0.00e+00\n",
       "fool                   -0.00e+00\n",
       "food not               -0.00e+00\n",
       "forget                 -0.00e+00\n",
       "form                    0.00e+00\n",
       "formula                 0.00e+00\n",
       "free                    0.00e+00\n",
       "formula chang           0.00e+00\n",
       "foul                    0.00e+00\n",
       "food great              0.00e+00\n",
       "found                   0.00e+00\n",
       "four                   -0.00e+00\n",
       "fragil                  0.00e+00\n",
       "fragranc                0.00e+00\n",
       "fragrant                0.00e+00\n",
       "food good              -0.00e+00\n",
       "franc                  -0.00e+00\n",
       "francisco              -0.00e+00\n",
       "fraud                  -0.00e+00\n",
       "forev                   0.00e+00\n",
       "HelpfulnessDenominator -3.91e-03\n",
       "great servic           -2.12e-02\n",
       "review                 -3.69e-02\n",
       "water                  -4.95e-02\n",
       "like water             -8.75e-02\n",
       "Score_2                -1.14e-01\n",
       "blk                    -1.35e-01\n",
       "Score_1                -2.06e-01\n",
       "\n",
       "[3220 rows x 1 columns]"
      ]
     },
     "execution_count": 243,
     "metadata": {},
     "output_type": "execute_result"
    }
   ],
   "source": [
    "Lasso_coef.sort_values('Coef',ascending=False)"
   ]
  },
  {
   "cell_type": "code",
   "execution_count": 244,
   "metadata": {},
   "outputs": [
    {
     "data": {
      "text/html": [
       "<div>\n",
       "<style scoped>\n",
       "    .dataframe tbody tr th:only-of-type {\n",
       "        vertical-align: middle;\n",
       "    }\n",
       "\n",
       "    .dataframe tbody tr th {\n",
       "        vertical-align: top;\n",
       "    }\n",
       "\n",
       "    .dataframe thead th {\n",
       "        text-align: right;\n",
       "    }\n",
       "</style>\n",
       "<table border=\"1\" class=\"dataframe\">\n",
       "  <thead>\n",
       "    <tr style=\"text-align: right;\">\n",
       "      <th></th>\n",
       "      <th>Coef</th>\n",
       "    </tr>\n",
       "  </thead>\n",
       "  <tbody>\n",
       "    <tr>\n",
       "      <th>HelpfulnessDenominator</th>\n",
       "      <td>-3.91e-03</td>\n",
       "    </tr>\n",
       "    <tr>\n",
       "      <th>Comment_Len</th>\n",
       "      <td>6.59e-05</td>\n",
       "    </tr>\n",
       "    <tr>\n",
       "      <th>blk</th>\n",
       "      <td>-1.35e-01</td>\n",
       "    </tr>\n",
       "    <tr>\n",
       "      <th>buyer bewar</th>\n",
       "      <td>7.36e-02</td>\n",
       "    </tr>\n",
       "    <tr>\n",
       "      <th>chang</th>\n",
       "      <td>1.74e-01</td>\n",
       "    </tr>\n",
       "    <tr>\n",
       "      <th>good</th>\n",
       "      <td>5.12e-03</td>\n",
       "    </tr>\n",
       "    <tr>\n",
       "      <th>great</th>\n",
       "      <td>2.23e-03</td>\n",
       "    </tr>\n",
       "    <tr>\n",
       "      <th>great servic</th>\n",
       "      <td>-2.12e-02</td>\n",
       "    </tr>\n",
       "    <tr>\n",
       "      <th>like water</th>\n",
       "      <td>-8.75e-02</td>\n",
       "    </tr>\n",
       "    <tr>\n",
       "      <th>pictur</th>\n",
       "      <td>9.15e-02</td>\n",
       "    </tr>\n",
       "    <tr>\n",
       "      <th>qualiti</th>\n",
       "      <td>3.88e-03</td>\n",
       "    </tr>\n",
       "    <tr>\n",
       "      <th>review</th>\n",
       "      <td>-3.69e-02</td>\n",
       "    </tr>\n",
       "    <tr>\n",
       "      <th>water</th>\n",
       "      <td>-4.95e-02</td>\n",
       "    </tr>\n",
       "    <tr>\n",
       "      <th>Score_1</th>\n",
       "      <td>-2.06e-01</td>\n",
       "    </tr>\n",
       "    <tr>\n",
       "      <th>Score_2</th>\n",
       "      <td>-1.14e-01</td>\n",
       "    </tr>\n",
       "    <tr>\n",
       "      <th>Score_4</th>\n",
       "      <td>3.26e-01</td>\n",
       "    </tr>\n",
       "    <tr>\n",
       "      <th>Score_5</th>\n",
       "      <td>4.45e-01</td>\n",
       "    </tr>\n",
       "  </tbody>\n",
       "</table>\n",
       "</div>"
      ],
      "text/plain": [
       "                            Coef\n",
       "HelpfulnessDenominator -3.91e-03\n",
       "Comment_Len             6.59e-05\n",
       "blk                    -1.35e-01\n",
       "buyer bewar             7.36e-02\n",
       "chang                   1.74e-01\n",
       "good                    5.12e-03\n",
       "great                   2.23e-03\n",
       "great servic           -2.12e-02\n",
       "like water             -8.75e-02\n",
       "pictur                  9.15e-02\n",
       "qualiti                 3.88e-03\n",
       "review                 -3.69e-02\n",
       "water                  -4.95e-02\n",
       "Score_1                -2.06e-01\n",
       "Score_2                -1.14e-01\n",
       "Score_4                 3.26e-01\n",
       "Score_5                 4.45e-01"
      ]
     },
     "execution_count": 244,
     "metadata": {},
     "output_type": "execute_result"
    }
   ],
   "source": [
    "Lasso_coef[Lasso_coef.Coef != 0]"
   ]
  },
  {
   "cell_type": "code",
   "execution_count": 142,
   "metadata": {
    "collapsed": true
   },
   "outputs": [
    {
     "data": {
      "text/plain": [
       "Index(['HelpfulnessDenominator', 'Comment_Len', 'Smileys_count',\n",
       "       'Exclamation_count', 'Sad_Smileys_count', 'abl', 'absolut',\n",
       "       'absolut aw', 'absolut best', 'absolut delici', 'absolut favorit',\n",
       "       'absolut wonder', 'accept', 'acid', 'acquir', 'acquir tast', 'activ'],\n",
       "      dtype='object')"
      ]
     },
     "execution_count": 142,
     "metadata": {},
     "output_type": "execute_result"
    }
   ],
   "source": [
    "colnames"
   ]
  },
  {
   "cell_type": "code",
   "execution_count": 112,
   "metadata": {
    "collapsed": true
   },
   "outputs": [
    {
     "data": {
      "text/plain": [
       "[<matplotlib.lines.Line2D at 0x1c2be49390>]"
      ]
     },
     "execution_count": 112,
     "metadata": {},
     "output_type": "execute_result"
    },
    {
     "data": {
      "text/plain": [
       "([<matplotlib.axis.XTick at 0x1c2ba719e8>,\n",
       "  <matplotlib.axis.XTick at 0x1c2ba71080>,\n",
       "  <matplotlib.axis.XTick at 0x1c2f8d5dd8>,\n",
       "  <matplotlib.axis.XTick at 0x1c2be499b0>,\n",
       "  <matplotlib.axis.XTick at 0x1c2be49da0>,\n",
       "  <matplotlib.axis.XTick at 0x1c2be804e0>,\n",
       "  <matplotlib.axis.XTick at 0x1c2be809b0>,\n",
       "  <matplotlib.axis.XTick at 0x1c2be80e80>,\n",
       "  <matplotlib.axis.XTick at 0x1c2be5a390>,\n",
       "  <matplotlib.axis.XTick at 0x1c2be80a90>,\n",
       "  <matplotlib.axis.XTick at 0x1c2be5a438>,\n",
       "  <matplotlib.axis.XTick at 0x1c2be5aa20>,\n",
       "  <matplotlib.axis.XTick at 0x1c2be5aef0>,\n",
       "  <matplotlib.axis.XTick at 0x1c2be56438>,\n",
       "  <matplotlib.axis.XTick at 0x1c2be56940>,\n",
       "  <matplotlib.axis.XTick at 0x1c2be56e48>,\n",
       "  <matplotlib.axis.XTick at 0x1c2be63390>,\n",
       "  <matplotlib.axis.XTick at 0x1c2be63898>,\n",
       "  <matplotlib.axis.XTick at 0x1c2be56f28>,\n",
       "  <matplotlib.axis.XTick at 0x1c2be5a470>],\n",
       " <a list of 20 Text xticklabel objects>)"
      ]
     },
     "execution_count": 112,
     "metadata": {},
     "output_type": "execute_result"
    },
    {
     "data": {
      "image/png": "[encoded data removed]",
      "text/plain": [
       "<Figure size 432x288 with 1 Axes>"
      ]
     },
     "metadata": {
      "needs_background": "light"
     },
     "output_type": "display_data"
    }
   ],
   "source": [
    "# Plot the coefficients\n",
    "plt.plot(range(len(colnames)), a[-20:])\n",
    "plt.xticks(range(len(colnames)), colnames.values, rotation=60) \n",
    "plt.margins(0.000001)\n",
    "plt.show()"
   ]
  },
  {
   "cell_type": "code",
   "execution_count": null,
   "metadata": {},
   "outputs": [],
   "source": [
    "from sklearn.linear_model import LinearRegression"
   ]
  },
  {
   "cell_type": "code",
   "execution_count": 251,
   "metadata": {},
   "outputs": [
    {
     "data": {
      "text/plain": [
       "LogisticRegression(C=1.0, class_weight=None, dual=False, fit_intercept=True,\n",
       "          intercept_scaling=1, max_iter=100, multi_class='warn',\n",
       "          n_jobs=None, penalty='l1', random_state=None, solver='liblinear',\n",
       "          tol=0.0001, verbose=0, warm_start=False)"
      ]
     },
     "execution_count": 251,
     "metadata": {},
     "output_type": "execute_result"
    }
   ],
   "source": [
    "log =LogisticRegression(penalty = 'l1', solver = 'liblinear')\n",
    "log.fit(X_train,Y_training)"
   ]
  },
  {
   "cell_type": "code",
   "execution_count": 252,
   "metadata": {},
   "outputs": [
    {
     "data": {
      "text/plain": [
       "array([[-0.08023816,  0.00203924,  0.0697555 , ..., -0.71483488,\n",
       "         1.12144341,  2.00132211]])"
      ]
     },
     "execution_count": 252,
     "metadata": {},
     "output_type": "execute_result"
    }
   ],
   "source": [
    "log.coef_"
   ]
  },
  {
   "cell_type": "code",
   "execution_count": 268,
   "metadata": {},
   "outputs": [],
   "source": [
    "log_coef = pd.DataFrame(log.coef_)"
   ]
  },
  {
   "cell_type": "code",
   "execution_count": 270,
   "metadata": {},
   "outputs": [],
   "source": [
    "log_coef.columns = X.columns"
   ]
  },
  {
   "cell_type": "code",
   "execution_count": 273,
   "metadata": {},
   "outputs": [],
   "source": [
    "log_coef = log_coef.T"
   ]
  },
  {
   "cell_type": "code",
   "execution_count": 275,
   "metadata": {},
   "outputs": [],
   "source": [
    "log_coef.columns = x"
   ]
  },
  {
   "cell_type": "code",
   "execution_count": 279,
   "metadata": {
    "collapsed": true
   },
   "outputs": [
    {
     "data": {
      "text/html": [
       "<div>\n",
       "<style scoped>\n",
       "    .dataframe tbody tr th:only-of-type {\n",
       "        vertical-align: middle;\n",
       "    }\n",
       "\n",
       "    .dataframe tbody tr th {\n",
       "        vertical-align: top;\n",
       "    }\n",
       "\n",
       "    .dataframe thead th {\n",
       "        text-align: right;\n",
       "    }\n",
       "</style>\n",
       "<table border=\"1\" class=\"dataframe\">\n",
       "  <thead>\n",
       "    <tr style=\"text-align: right;\">\n",
       "      <th></th>\n",
       "      <th>Coef</th>\n",
       "    </tr>\n",
       "  </thead>\n",
       "  <tbody>\n",
       "    <tr>\n",
       "      <th>nutrient</th>\n",
       "      <td>3.50</td>\n",
       "    </tr>\n",
       "    <tr>\n",
       "      <th>appear</th>\n",
       "      <td>2.66</td>\n",
       "    </tr>\n",
       "    <tr>\n",
       "      <th>mold</th>\n",
       "      <td>2.31</td>\n",
       "    </tr>\n",
       "    <tr>\n",
       "      <th>cal</th>\n",
       "      <td>2.31</td>\n",
       "    </tr>\n",
       "    <tr>\n",
       "      <th>purchas amazon</th>\n",
       "      <td>2.26</td>\n",
       "    </tr>\n",
       "    <tr>\n",
       "      <th>not quit</th>\n",
       "      <td>2.17</td>\n",
       "    </tr>\n",
       "    <tr>\n",
       "      <th>disappoint product</th>\n",
       "      <td>2.06</td>\n",
       "    </tr>\n",
       "    <tr>\n",
       "      <th>line</th>\n",
       "      <td>2.05</td>\n",
       "    </tr>\n",
       "    <tr>\n",
       "      <th>pictur</th>\n",
       "      <td>2.05</td>\n",
       "    </tr>\n",
       "    <tr>\n",
       "      <th>Score_5</th>\n",
       "      <td>2.00</td>\n",
       "    </tr>\n",
       "    <tr>\n",
       "      <th>chang</th>\n",
       "      <td>2.00</td>\n",
       "    </tr>\n",
       "    <tr>\n",
       "      <th>crab</th>\n",
       "      <td>1.99</td>\n",
       "    </tr>\n",
       "    <tr>\n",
       "      <th>crazi</th>\n",
       "      <td>1.83</td>\n",
       "    </tr>\n",
       "    <tr>\n",
       "      <th>process</th>\n",
       "      <td>1.82</td>\n",
       "    </tr>\n",
       "    <tr>\n",
       "      <th>real thing</th>\n",
       "      <td>1.81</td>\n",
       "    </tr>\n",
       "    <tr>\n",
       "      <th>grove</th>\n",
       "      <td>1.72</td>\n",
       "    </tr>\n",
       "    <tr>\n",
       "      <th>custom servic</th>\n",
       "      <td>1.71</td>\n",
       "    </tr>\n",
       "    <tr>\n",
       "      <th>back</th>\n",
       "      <td>1.65</td>\n",
       "    </tr>\n",
       "    <tr>\n",
       "      <th>chewer</th>\n",
       "      <td>1.62</td>\n",
       "    </tr>\n",
       "    <tr>\n",
       "      <th>batch</th>\n",
       "      <td>1.61</td>\n",
       "    </tr>\n",
       "    <tr>\n",
       "      <th>gf</th>\n",
       "      <td>1.59</td>\n",
       "    </tr>\n",
       "    <tr>\n",
       "      <th>parti</th>\n",
       "      <td>1.56</td>\n",
       "    </tr>\n",
       "    <tr>\n",
       "      <th>grow</th>\n",
       "      <td>1.49</td>\n",
       "    </tr>\n",
       "    <tr>\n",
       "      <th>smaller</th>\n",
       "      <td>1.48</td>\n",
       "    </tr>\n",
       "    <tr>\n",
       "      <th>basket</th>\n",
       "      <td>1.44</td>\n",
       "    </tr>\n",
       "    <tr>\n",
       "      <th>chowder</th>\n",
       "      <td>1.44</td>\n",
       "    </tr>\n",
       "    <tr>\n",
       "      <th>somewhat</th>\n",
       "      <td>1.43</td>\n",
       "    </tr>\n",
       "    <tr>\n",
       "      <th>use good</th>\n",
       "      <td>1.40</td>\n",
       "    </tr>\n",
       "    <tr>\n",
       "      <th>deserv</th>\n",
       "      <td>1.40</td>\n",
       "    </tr>\n",
       "    <tr>\n",
       "      <th>warm</th>\n",
       "      <td>1.39</td>\n",
       "    </tr>\n",
       "    <tr>\n",
       "      <th>...</th>\n",
       "      <td>...</td>\n",
       "    </tr>\n",
       "    <tr>\n",
       "      <th>water</th>\n",
       "      <td>-1.41</td>\n",
       "    </tr>\n",
       "    <tr>\n",
       "      <th>servic</th>\n",
       "      <td>-1.42</td>\n",
       "    </tr>\n",
       "    <tr>\n",
       "      <th>black cherri</th>\n",
       "      <td>-1.45</td>\n",
       "    </tr>\n",
       "    <tr>\n",
       "      <th>great water</th>\n",
       "      <td>-1.45</td>\n",
       "    </tr>\n",
       "    <tr>\n",
       "      <th>excel healthi</th>\n",
       "      <td>-1.46</td>\n",
       "    </tr>\n",
       "    <tr>\n",
       "      <th>hey</th>\n",
       "      <td>-1.46</td>\n",
       "    </tr>\n",
       "    <tr>\n",
       "      <th>bad ship</th>\n",
       "      <td>-1.46</td>\n",
       "    </tr>\n",
       "    <tr>\n",
       "      <th>favorit food</th>\n",
       "      <td>-1.52</td>\n",
       "    </tr>\n",
       "    <tr>\n",
       "      <th>king</th>\n",
       "      <td>-1.52</td>\n",
       "    </tr>\n",
       "    <tr>\n",
       "      <th>saffron</th>\n",
       "      <td>-1.52</td>\n",
       "    </tr>\n",
       "    <tr>\n",
       "      <th>disgust</th>\n",
       "      <td>-1.53</td>\n",
       "    </tr>\n",
       "    <tr>\n",
       "      <th>up</th>\n",
       "      <td>-1.54</td>\n",
       "    </tr>\n",
       "    <tr>\n",
       "      <th>arsenic</th>\n",
       "      <td>-1.56</td>\n",
       "    </tr>\n",
       "    <tr>\n",
       "      <th>best product</th>\n",
       "      <td>-1.56</td>\n",
       "    </tr>\n",
       "    <tr>\n",
       "      <th>lard</th>\n",
       "      <td>-1.56</td>\n",
       "    </tr>\n",
       "    <tr>\n",
       "      <th>littl too</th>\n",
       "      <td>-1.58</td>\n",
       "    </tr>\n",
       "    <tr>\n",
       "      <th>Score_1</th>\n",
       "      <td>-1.60</td>\n",
       "    </tr>\n",
       "    <tr>\n",
       "      <th>ive ever</th>\n",
       "      <td>-1.64</td>\n",
       "    </tr>\n",
       "    <tr>\n",
       "      <th>typic</th>\n",
       "      <td>-1.68</td>\n",
       "    </tr>\n",
       "    <tr>\n",
       "      <th>msg</th>\n",
       "      <td>-1.71</td>\n",
       "    </tr>\n",
       "    <tr>\n",
       "      <th>wife</th>\n",
       "      <td>-1.74</td>\n",
       "    </tr>\n",
       "    <tr>\n",
       "      <th>nasti</th>\n",
       "      <td>-1.75</td>\n",
       "    </tr>\n",
       "    <tr>\n",
       "      <th>similac</th>\n",
       "      <td>-1.76</td>\n",
       "    </tr>\n",
       "    <tr>\n",
       "      <th>look good</th>\n",
       "      <td>-1.79</td>\n",
       "    </tr>\n",
       "    <tr>\n",
       "      <th>ramen</th>\n",
       "      <td>-1.79</td>\n",
       "    </tr>\n",
       "    <tr>\n",
       "      <th>match</th>\n",
       "      <td>-1.84</td>\n",
       "    </tr>\n",
       "    <tr>\n",
       "      <th>support</th>\n",
       "      <td>-1.91</td>\n",
       "    </tr>\n",
       "    <tr>\n",
       "      <th>transit</th>\n",
       "      <td>-2.07</td>\n",
       "    </tr>\n",
       "    <tr>\n",
       "      <th>veri fast</th>\n",
       "      <td>-2.49</td>\n",
       "    </tr>\n",
       "    <tr>\n",
       "      <th>blk</th>\n",
       "      <td>-2.59</td>\n",
       "    </tr>\n",
       "  </tbody>\n",
       "</table>\n",
       "<p>962 rows × 1 columns</p>\n",
       "</div>"
      ],
      "text/plain": [
       "                    Coef\n",
       "nutrient            3.50\n",
       "appear              2.66\n",
       "mold                2.31\n",
       "cal                 2.31\n",
       "purchas amazon      2.26\n",
       "not quit            2.17\n",
       "disappoint product  2.06\n",
       "line                2.05\n",
       "pictur              2.05\n",
       "Score_5             2.00\n",
       "chang               2.00\n",
       "crab                1.99\n",
       "crazi               1.83\n",
       "process             1.82\n",
       "real thing          1.81\n",
       "grove               1.72\n",
       "custom servic       1.71\n",
       "back                1.65\n",
       "chewer              1.62\n",
       "batch               1.61\n",
       "gf                  1.59\n",
       "parti               1.56\n",
       "grow                1.49\n",
       "smaller             1.48\n",
       "basket              1.44\n",
       "chowder             1.44\n",
       "somewhat            1.43\n",
       "use good            1.40\n",
       "deserv              1.40\n",
       "warm                1.39\n",
       "...                  ...\n",
       "water              -1.41\n",
       "servic             -1.42\n",
       "black cherri       -1.45\n",
       "great water        -1.45\n",
       "excel healthi      -1.46\n",
       "hey                -1.46\n",
       "bad ship           -1.46\n",
       "favorit food       -1.52\n",
       "king               -1.52\n",
       "saffron            -1.52\n",
       "disgust            -1.53\n",
       "up                 -1.54\n",
       "arsenic            -1.56\n",
       "best product       -1.56\n",
       "lard               -1.56\n",
       "littl too          -1.58\n",
       "Score_1            -1.60\n",
       "ive ever           -1.64\n",
       "typic              -1.68\n",
       "msg                -1.71\n",
       "wife               -1.74\n",
       "nasti              -1.75\n",
       "similac            -1.76\n",
       "look good          -1.79\n",
       "ramen              -1.79\n",
       "match              -1.84\n",
       "support            -1.91\n",
       "transit            -2.07\n",
       "veri fast          -2.49\n",
       "blk                -2.59\n",
       "\n",
       "[962 rows x 1 columns]"
      ]
     },
     "execution_count": 279,
     "metadata": {},
     "output_type": "execute_result"
    }
   ],
   "source": [
    "log_coef[log_coef.Coef != 0].sort_values('Coef',ascending = False)"
   ]
  },
  {
   "cell_type": "code",
   "execution_count": 291,
   "metadata": {},
   "outputs": [],
   "source": [
    "cols = ['HelpfulnessDenominator', 'Comment_Len', 'blk', 'buyer bewar', 'chang',\n",
    "       'good', 'great', 'great servic', 'like water', 'pictur', 'qualiti',\n",
    "       'review', 'water', 'Score_1', 'Score_2', 'Score_4', 'Score_5']"
   ]
  },
  {
   "cell_type": "code",
   "execution_count": 419,
   "metadata": {},
   "outputs": [],
   "source": [
    "X_test_1 =X_test[['HelpfulnessDenominator', 'Comment_Len', 'blk', 'buyer bewar', 'chang',\n",
    "       'good', 'great', 'great servic', 'like water', 'pictur', 'qualiti',\n",
    "       'review', 'water', 'Score_1', 'Score_2', 'Score_4', 'Score_5']]"
   ]
  },
  {
   "cell_type": "code",
   "execution_count": 297,
   "metadata": {},
   "outputs": [],
   "source": [
    "X_train_1 = X_train[['HelpfulnessDenominator', 'Comment_Len', 'blk', 'buyer bewar', 'chang',\n",
    "       'good', 'great', 'great servic', 'like water', 'pictur', 'qualiti',\n",
    "       'review', 'water', 'Score_1', 'Score_2', 'Score_4', 'Score_5']]"
   ]
  },
  {
   "cell_type": "code",
   "execution_count": 413,
   "metadata": {},
   "outputs": [
    {
     "data": {
      "text/plain": [
       "RandomForestClassifier(bootstrap=True, class_weight=None, criterion='gini',\n",
       "            max_depth=3, max_features='auto', max_leaf_nodes=None,\n",
       "            min_impurity_decrease=0.0, min_impurity_split=None,\n",
       "            min_samples_leaf=1, min_samples_split=2,\n",
       "            min_weight_fraction_leaf=0.0, n_estimators=1000, n_jobs=None,\n",
       "            oob_score=False, random_state=None, verbose=0,\n",
       "            warm_start=False)"
      ]
     },
     "execution_count": 413,
     "metadata": {},
     "output_type": "execute_result"
    }
   ],
   "source": [
    "from sklearn.ensemble import RandomForestClassifier\n",
    "\n",
    "cl = RandomForestClassifier(n_estimators=1000,random_state = None,max_depth=3)\n",
    "cl.fit(X_train_1,Y_training)"
   ]
  },
  {
   "cell_type": "code",
   "execution_count": 414,
   "metadata": {},
   "outputs": [],
   "source": [
    "small_tree = cl.estimators_[3]"
   ]
  },
  {
   "cell_type": "code",
   "execution_count": 415,
   "metadata": {},
   "outputs": [],
   "source": [
    "features = X_train_1.columns"
   ]
  },
  {
   "cell_type": "code",
   "execution_count": 416,
   "metadata": {},
   "outputs": [],
   "source": [
    "from sklearn.tree import export_graphviz\n",
    "# Export as dot file\n",
    "export_graphviz(small_tree, out_file='small_tree.dot', \n",
    "                feature_names = features,\n",
    "                rounded = True, proportion = False, \n",
    "                precision = 2, filled = True)\n",
    "\n",
    "# Convert to png using system command (requires Graphviz)\n",
    "#from subprocess import call\n",
    "#call(['dot', '-Tpng', 'tree.dot', '-o', 'tree.png', '-Gdpi=600'])\n",
    "\n",
    "# Display in jupyter notebook\n",
    "#from IPython.display import Image\n",
    "#Image(filename = 'small_tree.png')\n",
    "\n"
   ]
  },
  {
   "cell_type": "code",
   "execution_count": 417,
   "metadata": {},
   "outputs": [
    {
     "data": {
      "image/png": "[encoded data removed]",
      "text/plain": [
       "<IPython.core.display.Image object>"
      ]
     },
     "execution_count": 417,
     "metadata": {},
     "output_type": "execute_result"
    }
   ],
   "source": [
    "graph = pydotplus.graph_from_dot_file('small_tree.dot')\n",
    "Image(graph.create_png())"
   ]
  },
  {
   "cell_type": "code",
   "execution_count": 420,
   "metadata": {},
   "outputs": [],
   "source": [
    "y_pred = cl.predict(X_test_1)"
   ]
  },
  {
   "cell_type": "code",
   "execution_count": 421,
   "metadata": {},
   "outputs": [
    {
     "data": {
      "text/plain": [
       "array([[1793,  969],\n",
       "       [ 530, 5134]])"
      ]
     },
     "execution_count": 421,
     "metadata": {},
     "output_type": "execute_result"
    }
   ],
   "source": [
    "from sklearn.metrics import confusion_matrix\n",
    "confusion_matrix(Y_test,y_pred)"
   ]
  },
  {
   "cell_type": "code",
   "execution_count": 422,
   "metadata": {},
   "outputs": [
    {
     "data": {
      "text/plain": [
       "0.8220982672679801"
      ]
     },
     "execution_count": 422,
     "metadata": {},
     "output_type": "execute_result"
    }
   ],
   "source": [
    "1 - (y_pred - Y_test ).abs().mean()"
   ]
  },
  {
   "cell_type": "code",
   "execution_count": 423,
   "metadata": {},
   "outputs": [
    {
     "data": {
      "text/plain": [
       "0.841225626740947"
      ]
     },
     "execution_count": 423,
     "metadata": {},
     "output_type": "execute_result"
    }
   ],
   "source": [
    "import sklearn\n",
    "sklearn.metrics.precision_score(Y_test,y_pred)"
   ]
  },
  {
   "cell_type": "code",
   "execution_count": 426,
   "metadata": {},
   "outputs": [],
   "source": [
    "y_proba = cl.predict_proba(X_test_1)[:,1]"
   ]
  },
  {
   "cell_type": "code",
   "execution_count": 427,
   "metadata": {},
   "outputs": [
    {
     "data": {
      "text/plain": [
       "0.890411211528942"
      ]
     },
     "execution_count": 427,
     "metadata": {},
     "output_type": "execute_result"
    }
   ],
   "source": [
    "sklearn.metrics.roc_auc_score(Y_test,y_proba)"
   ]
  }
 ],
 "metadata": {
  "kernelspec": {
   "display_name": "Python 3",
   "language": "python",
   "name": "python3"
  },
  "language_info": {
   "codemirror_mode": {
    "name": "ipython",
    "version": 3
   },
   "file_extension": ".py",
   "mimetype": "text/x-python",
   "name": "python",
   "nbconvert_exporter": "python",
   "pygments_lexer": "ipython3",
   "version": "3.7.1"
  }
 },
 "nbformat": 4,
 "nbformat_minor": 2
}
